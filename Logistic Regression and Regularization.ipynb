{
 "cells": [
  {
   "cell_type": "markdown",
   "metadata": {},
   "source": [
    "## Problem to solve\n",
    "\n",
    "Suppose you are the product manager of the factory and you have the\n",
    "test results for some microchips on two different tests from Quality Assessment (QA). From these two tests,\n",
    "you would like to determine whether the microchips should be accepted or\n",
    "rejected. To help you make the decision, you have a dataset of test results\n",
    "on past microchips, from which you can build a logistic regression model."
   ]
  },
  {
   "cell_type": "markdown",
   "metadata": {},
   "source": [
    "## Data\n",
    "\n",
    "Data is provided in a text file with 3 columns in a csv format:\n",
    "- Microchip Test 1\n",
    "- Microchip Test 2\n",
    "- Accepted (1) or Rejected (0)\n",
    "\n",
    "Let's take a look at the data..."
   ]
  },
  {
   "cell_type": "code",
   "execution_count": 4,
   "metadata": {
    "collapsed": false,
    "scrolled": false
   },
   "outputs": [
    {
     "data": {
      "text/plain": [
       "<matplotlib.legend.Legend at 0x1c81b3c6e10>"
      ]
     },
     "execution_count": 4,
     "metadata": {},
     "output_type": "execute_result"
    },
    {
     "data": {
      "image/png": "[encoded data removed]",
      "text/plain": [
       "<matplotlib.figure.Figure at 0x1c81d0d5c18>"
      ]
     },
     "metadata": {},
     "output_type": "display_data"
    }
   ],
   "source": [
    "%matplotlib inline\n",
    "\n",
    "# numpy for numerical computation\n",
    "import numpy as np\n",
    "# matplotlib for plotting\n",
    "import matplotlib.pyplot as plt\n",
    "# Scipy for optimization engine\n",
    "from scipy.optimize import minimize\n",
    "\n",
    "# plot data for training set\n",
    "def plotData(E1, E2, y):\n",
    "    fig_raw = plt.figure()\n",
    "    ax = fig_raw.add_axes([0, 0, 1, 1 ])\n",
    "    ax.plot( E1[y == True ], E2[y == True ], 'k+')\n",
    "    ax.plot( E1[y == False ], E2[y == False ], 'ko', markerfacecolor='y')\n",
    "    return ax\n",
    "\n",
    "# file needs to be located in the same directory as your Jupiter notebook\n",
    "# OR add the full path with a single forward slash '/'\n",
    "# OR full path with double back slash '\\\\'\n",
    "# Single and double quotation marks can be used interchangeably\n",
    "\n",
    "# Read text file\n",
    "# Floating point 64 bit is necessary to conserve full precision (14 decimals)\n",
    "data = np.loadtxt('ex2data2.txt', dtype = np.float64 , delimiter=',')\n",
    "\n",
    "# slice data and plot function\n",
    "X1 = data[:,0]      # Exam 1 grade\n",
    "X2 = data[:,1]      # Exam 2 grade\n",
    "y = data[:,2]      # Chip validation\n",
    "\n",
    "# plot data points using function defined above\n",
    "axes_raw = plotData(X1, X2, y)\n",
    "axes_raw.set_xlabel('Microchip Test 1')\n",
    "axes_raw.set_ylabel('Microchip Test 2')\n",
    "axes_raw.legend(['y = 1', 'y = 0'])"
   ]
  },
  {
   "cell_type": "markdown",
   "metadata": {},
   "source": [
    "# Hypothesis\n",
    "\n",
    "The logistic regression hypothesis is defined as: \n",
    "$$ h_\\theta(x) = g(\\theta^Tx)$$\n",
    "\n",
    "where g is the sigmoid function:\n",
    "$$ g(z) = \\frac{1}{1 + e^{-z}}   \\quad and \\quad z = \\theta^Tx$$\n",
    "\n",
    "A straight line is not adequate to capture accepted and rejected microchip (see plot).<br>\n",
    "One way to fit the data better is to create more features from each data\n",
    "point. We will map the features into all polynomial terms of x1 and x2 up to the sixth power\n",
    "<img src=\"FeatureMapping.png\">\n",
    "As a result of this mapping, our vector of two features (the scores on\n",
    "two QA tests) has been transformed into a 28-dimensional vector. A logistic\n",
    "regression classifier trained on this higher-dimension feature vector will have\n",
    "a more complex decision boundary and will appear nonlinear when drawn in\n",
    "our 2-dimensional plot.\n",
    "As a result it is also more susceptible to overfitting. Regularization can help combat the overfitting problem."
   ]
  },
  {
   "cell_type": "markdown",
   "metadata": {},
   "source": [
    "# Cost function and gradient\n",
    "\n",
    "Now that we have our hypothesis, we need to find the optimal vector $\\theta$ which yields the best results given our training set.\n",
    "This is done by minimizing the cost function:<br>\n",
    "The regularization term is boxed. $\\lambda$ is the regularization parameter.\n",
    "$$ J(\\theta) = \\frac{1}{m} \\sum_{i=1}^m [-y^{(i)}log(h_\\theta(x^{(i)})) - (1 - y^{(i)})log(1 - h_\\theta(x^{(i)})) ] + \\boxed{\\frac{\\lambda}{2m} \\sum_{j=1}^n \\theta_j^2}$$\n",
    "\n",
    "PS: cost function is similar to chi-square for fitting\n",
    "\n",
    "To perform a gradient descent on our cost function we need to calculate the gradient:<br>\n",
    "Note that you should not regularize parameter $\\theta_0$\n",
    "$$ \\frac{\\partial J(\\theta)}{\\partial \\theta_j}  = \\frac{1}{m} \\sum_{i=1}^{m} (h_\\theta(x^{(i)})) - y^{(i)})x^{(i)}_j \\qquad for\\; j=0$$\n",
    "$$ \\frac{\\partial J(\\theta)}{\\partial \\theta_j}  = \\left(\\frac{1}{m} \\sum_{i=1}^{m} (h_\\theta(x^{(i)})) - y^{(i)})x^{(i)}_j ) \\right)+ \\frac{\\lambda}{m}\\theta_j \\qquad for\\; j \\geq 1$$\n",
    "\n",
    "The optimal $\\theta$ corresponds to the lowest value of $J(\\theta)$. For a given vector $\\theta$, global minima of $J(\\theta)$ is determined by taking its derivative (gradient). Gradient descent is an iterative process to minimize $J(\\theta)$ Because the sigmoid is convex, it will always converge to the global minima!\n"
   ]
  },
  {
   "cell_type": "code",
   "execution_count": 5,
   "metadata": {
    "collapsed": false
   },
   "outputs": [
    {
     "name": "stdout",
     "output_type": "stream",
     "text": [
      "Optimization terminated successfully.\n",
      "         Current function value: 0.523112\n",
      "         Iterations: 49\n",
      "         Function evaluations: 50\n",
      "         Gradient evaluations: 50\n",
      "[ 1.25723042  0.64250057  1.1808067  -1.94809167 -0.91448758 -1.37996343\n",
      "  0.19715337 -0.37102552 -0.37104368 -0.07202373 -1.36463866 -0.04826299\n",
      " -0.62139701 -0.28013228 -1.06671169 -0.1585542  -0.20375261 -0.04513221\n",
      " -0.27553822 -0.30691681 -0.30602146 -0.95051085  0.03117873 -0.29163832\n",
      "  0.01547954 -0.32428062 -0.15276902 -0.76227187 -0.2788304  -0.09418474\n",
      " -0.04151836 -0.11393372 -0.03063718 -0.16934725 -0.20811472 -0.33502441\n",
      " -0.6845496   0.03788952 -0.15369203  0.01426298 -0.12785946  0.01485247\n",
      " -0.18712969 -0.10190032 -0.56072647]\n"
     ]
    }
   ],
   "source": [
    "# sigmoid function for logistic regression\n",
    "def sigmoid(z):\n",
    "    return 1 / (1 + np.exp(-z))\n",
    "    \n",
    "# add polynomial features built on top of existing pair of features\n",
    "def mapFeatures(X1, X2, degree):\n",
    "    # add vector bias\n",
    "    out = np.ones(X1.shape)\n",
    "    # add polynomes\n",
    "    for i in range(1,degree+1, 1):\n",
    "        for j in range(i+1):\n",
    "            out = np.vstack( ( out, (np.power(X1,i-j)*np.power(X2,j)) ) )\n",
    "    return out.T\n",
    "\n",
    "# cost function for logistic regression\n",
    "# return cost and gradient\n",
    "def costFunction( theta, X, y, lambdaReg):\n",
    "    # size is the number of element in the array, shape shows dimensions\n",
    "    m = y.size\n",
    "    # compute gradient\n",
    "    grad = (1/m) * (sigmoid(np.dot(theta.T,X.T)) - y.T).dot(X)\n",
    "    grad = grad + (lambdaReg/m)*np.concatenate( (np.zeros((1,)), theta[1:]) )\n",
    "    \n",
    "    J = (1/m) * ( np.dot(-y.T,  np.log(sigmoid(np.dot(theta.T,X.T)).T)) -\n",
    "         np.dot((1-y.T), np.log(1 - sigmoid(np.dot(theta.T,X.T)).T)) )\n",
    "    # add regularization term\n",
    "    J = J + (lambdaReg/(2*m)) * np.dot(theta[1:], theta[1:])\n",
    "    return (J, grad)\n",
    "\n",
    "# Add polynomial features\n",
    "DegreePolynomes = 8\n",
    "Lambda = 1\n",
    "X = mapFeatures(X1, X2, DegreePolynomes)\n",
    "# X = np.vstack((X0, X)).T\n",
    "             \n",
    "# initialize fitting parameters\n",
    "init_theta = np.zeros((X.shape[1], ))\n",
    "#init_theta = np.array([-24, 0.2, 0.2])\n",
    "\n",
    "# test cost function\n",
    "#U = costFunction(init_theta, X, y)\n",
    "\n",
    "# Minimize cost function using Broyden-Fletcher-Goldfarb-Shanno (BFGS)\n",
    "# It is the equivalent of fminunc in Matlab optimization toolbox\n",
    "# this is an unconstrained minimization\n",
    "res = minimize(costFunction, init_theta, args=(X,y,Lambda), method='BFGS',\n",
    "                 jac=True, options={'disp': True, 'maxiter': 400})\n",
    "# get theta (returned as 'x' key) and cost (returned as 'fun' key)\n",
    "theta = res['x']\n",
    "cost = res['fun']\n",
    "\n",
    "print(theta)"
   ]
  },
  {
   "cell_type": "markdown",
   "metadata": {},
   "source": [
    "## NOTE: Vary $\\lambda$ and see for yourself how your decision boundary changes (rerun code above AND below)"
   ]
  },
  {
   "cell_type": "markdown",
   "metadata": {},
   "source": [
    "# Decision boundary and prediction\n",
    "\n",
    "We found our optimal $\\theta$ parameters! <br>\n",
    "Decision boundary is defined as $z=0$ equivalent to $x_0\\theta_0+x_1\\theta_1+x_2\\theta_2+x_1^2\\theta_3+x_1x_2\\theta_4+...+x_2^6\\theta_{28} = 0$<br>\n",
    "In order to plot the non-linear decision boundary, classifier's predictions are computed on an evenly spaced grid and then and drew a contour plot of where the predictions change from y = 0 to y = 1. (see plotDecisionBoundary function)\n",
    "\n",
    "The sigmoid function outputs a number between 0 and 1. In order to get a binary result the following rule applies:<br>\n",
    "when $z \\geq 0 \\Rightarrow h_\\theta(x) \\geq 0.5 \\Rightarrow$ classify result as admitted (1 logic)<br>\n",
    "when $z < 0 \\Rightarrow h_\\theta(x) < 0.5 \\Rightarrow$ classify result as not admitted (0 logic)"
   ]
  },
  {
   "cell_type": "code",
   "execution_count": 8,
   "metadata": {
    "collapsed": false
   },
   "outputs": [
    {
     "name": "stdout",
     "output_type": "stream",
     "text": [
      "Train accuracy: 83.1%\n"
     ]
    },
    {
     "data": {
      "image/png": "[encoded data removed]",
      "text/plain": [
       "<matplotlib.figure.Figure at 0x1c81e114b38>"
      ]
     },
     "metadata": {},
     "output_type": "display_data"
    }
   ],
   "source": [
    "# plot decision boundary\n",
    "def plotDecisionBoundary(theta, X, y, degree):\n",
    "    # plot data first\n",
    "    axd = plotData(X[:, 1], X[:, 2], y)\n",
    "    if X.shape[1] <= 3 :\n",
    "        # it's a line in this case so two points are enough for boundary\n",
    "        plot_x = np.array([np.nanmin(X[:, 1])-2, np.nanmax(X[:, 1])+2])\n",
    "        plot_y = -(theta[0] + plot_x*theta[1]) / theta[2]\n",
    "        axd.plot(plot_x, plot_y)\n",
    "    else:\n",
    "        # Here is the grid range using for loops\n",
    "#        u = np.linspace(-1, 1.5, 50)\n",
    "#        v = np.linspace(-1, 1.5, 50)\n",
    "#        z = np.zeros( (u.shape[0], v.shape[0]) )\n",
    "#        # Evaluate z = theta*x over the grid\n",
    "#        for i in range(0, (u.shape[0]), 1):\n",
    "#            for j in range(0, v.shape[0], 1):\n",
    "#                z[i,j] = mapFeatures(u[i], v[j], degree).dot(theta)\n",
    "#        z = z.T # important to transpose z before calling contour\n",
    "#        axd.contour(u, v, z, levels=[0],LineWidth=2)\n",
    "\n",
    "        # Vectorization helps getting rid of for loops, same results as above\n",
    "        u = np.linspace(-1, 1.5, 50)      \n",
    "        Xu, Yv = np.meshgrid(u,u)\n",
    "        z = mapFeatures(Xu.flatten(), Yv.flatten(), degree).dot(theta)\n",
    "        z = np.reshape(z, (u.shape[0],u.shape[0]) )\n",
    "        # Notice you need to specify level 0 to plot only z=0 line\n",
    "        axd.contour(u, u, z, levels=[0],LineWidth=2)\n",
    "        \n",
    "    return axd\n",
    "# return binary information based on probability\n",
    "def predict(theta, X):\n",
    "    p = np.zeros(X.shape[0], )\n",
    "    p[ sigmoid(theta.T.dot(X.T)) >= 0.5 ] = 1   \n",
    "    return p\n",
    "\n",
    "# plot decision boundary (straight line in this case)\n",
    "axe_bound = plotDecisionBoundary(theta, X, y, DegreePolynomes)\n",
    "axe_bound.set_xlabel('Microchip Test 1')\n",
    "axe_bound.set_ylabel('Microchip Test 2')\n",
    "axe_bound.legend(['y = 1', 'y = 0', 'Decision boundary'])\n",
    "\n",
    "# compute accuray on training set\n",
    "p = predict(theta, X)\n",
    "m = np.mean(p == y)*100\n",
    "# OR m = p[p == y].shape\n",
    "#print('Train accuracy: {}'.format(m))\n",
    "print('Train accuracy: {0:.1f}%'.format(m))"
   ]
  }
 ],
 "metadata": {
  "kernelspec": {
   "display_name": "Python 3",
   "language": "python",
   "name": "python3"
  },
  "language_info": {
   "codemirror_mode": {
    "name": "ipython",
    "version": 3
   },
   "file_extension": ".py",
   "mimetype": "text/x-python",
   "name": "python",
   "nbconvert_exporter": "python",
   "pygments_lexer": "ipython3",
   "version": "3.6.0"
  }
 },
 "nbformat": 4,
 "nbformat_minor": 2
}
